{
 "cells": [
  {
   "cell_type": "code",
   "execution_count": 1,
   "id": "b716e858",
   "metadata": {},
   "outputs": [],
   "source": [
    "import pymcx as mcx\n",
    "import json\n",
    "import random\n",
    "import SimpleITK as sitk\n",
    "import numpy as np\n",
    "import jdata\n",
    "\n",
    "\n",
    "mcxbin=\"../../MCXStudiov2020/MCXSuite/mcx/bin/mcx\""
   ]
  },
  {
   "cell_type": "code",
   "execution_count": 2,
   "id": "0022bdcb",
   "metadata": {},
   "outputs": [],
   "source": [
    "def better_write_vol_bin(vol, filename, used_type=np.byte):\n",
    "    f = open(filename, 'wb')\n",
    "    dmedium = np.array(vol,used_type)\n",
    "    f.write(dmedium)\n",
    "    f.close()"
   ]
  },
  {
   "cell_type": "code",
   "execution_count": 58,
   "id": "876b650a",
   "metadata": {},
   "outputs": [],
   "source": [
    "img = sitk.ReadImage(\"../down128.mhd\")\n",
    "\n",
    "dimension = list(img.GetSize())\n",
    "x = dimension[0]\n",
    "y = dimension[1]\n",
    "z = dimension[2]\n",
    "\n",
    "vol = sitk.GetArrayFromImage(img)\n",
    "\n",
    "vol = np.where(vol == 0, 1, vol)\n",
    "\n",
    "vol[:,:,0] = 0\n",
    "vol[:,0,:] = 0\n",
    "vol[0,:,:] = 0\n",
    "vol[:,:,x-1] = 0\n",
    "vol[:,y-1,:] = 0\n",
    "vol[z-1,:,:] = 0\n",
    "\n",
    "vol = vol.astype(np.byte)\n",
    "\n",
    "binfile = \"down128.bin\"\n",
    "better_write_vol_bin(vol, binfile)"
   ]
  },
  {
   "cell_type": "code",
   "execution_count": 69,
   "id": "afef7360",
   "metadata": {},
   "outputs": [
    {
     "data": {
      "text/plain": [
       "128"
      ]
     },
     "execution_count": 69,
     "metadata": {},
     "output_type": "execute_result"
    }
   ],
   "source": [
    "vol.shape[2]"
   ]
  },
  {
   "cell_type": "code",
   "execution_count": null,
   "id": "0cb08091",
   "metadata": {},
   "outputs": [],
   "source": []
  },
  {
   "cell_type": "code",
   "execution_count": null,
   "id": "1c358317",
   "metadata": {},
   "outputs": [],
   "source": []
  },
  {
   "cell_type": "code",
   "execution_count": 66,
   "id": "5065f0f3",
   "metadata": {
    "scrolled": false
   },
   "outputs": [
    {
     "name": "stdout",
     "output_type": "stream",
     "text": [
      "\u001b[32m###############################################################################\n",
      "#                      Monte Carlo eXtreme (MCX) -- CUDA                      #\n",
      "#          Copyright (c) 2009-2020 Qianqian Fang <q.fang at neu.edu>          #\n",
      "#                             http://mcx.space/                               #\n",
      "#                                                                             #\n",
      "# Computational Optics & Translational Imaging (COTI) Lab- http://fanglab.org #\n",
      "#   Department of Bioengineering, Northeastern University, Boston, MA, USA    #\n",
      "###############################################################################\n",
      "#    The MCX Project is funded by the NIH/NIGMS under grant R01-GM114365      #\n",
      "###############################################################################\n",
      "$Rev::0313d4$ v2020 $Date::2020-09-06 23:25:03 -04$ by $Author::Qianqian Fang $\n",
      "###############################################################################\n",
      "\u001b[0m- variant name: [Fermi] compiled by nvcc [9.0] with CUDA [9000]\n",
      "- compiled with: RNG [xorshift128+] with Seed Length [4]\n",
      "\n",
      "GPU=1 (NVIDIA GeForce GTX 970M) threadph=488 extra=5760 np=10000000 nthread=20480 maxgate=1 repetition=1\n",
      "initializing streams ...\tinit complete : 2 ms\n",
      "requesting 4096 bytes of shared memory\n",
      "\u001b[36mlaunching MCX simulation for time window [0.00e+00ns 5.00e+00ns] ...\n",
      "\u001b[0msimulation run# 1 ... \n",
      "kernel complete:  \t3680 ms\n",
      "retrieving fields ... \tdetected \u001b[1m\u001b[34m27351 photons\u001b[0m, total: \u001b[1m\u001b[34m27351\u001b[0m\ttransfer complete:\t3739 ms\n",
      "normalizing raw data ...\tsource 1, normalization factor alpha=781.250000\n",
      "data normalization complete : 3759 ms\n",
      "saving data to file ...\tsaving data complete : 3763 ms\n",
      "\n",
      "simulated 10000000 photons (10000000) with 20480 threads (repeat x1)\n",
      "MCX simulation speed: \u001b[1m\u001b[34m2724.05 photon/ms\n",
      "\u001b[0mtotal simulated energy: 10000000.00\tabsorbed: \u001b[1m\u001b[34m71.69980%\u001b[0m\n",
      "(loss due to initial specular reflection is excluded in the total)\n"
     ]
    }
   ],
   "source": [
    "\n",
    "cfg = mcx.create() #create a default config dictionary\n",
    "\n",
    "cfg[\"Domain\"][\"VolumeFile\"] = binfile\n",
    "cfg[\"Domain\"][\"MediaFormat\"] = \"byte\"\n",
    "cfg[\"Domain\"][\"Dim\"] = dimension\n",
    "cfg[\"Domain\"][\"OriginType\"] = 1\n",
    "cfg[\"Domain\"][\"LengthUnit\"] = (1024 / x) * 0.02\n",
    "cfg[\"Domain\"][\"Media\"] = [{'mua': 0.0, 'mus': 0.0, 'g': 1.0, 'n': 1.0},\n",
    "                          {'mua': 0.0, 'mus': 0.0, 'g': 1.0, 'n': 1.0},\n",
    "                         {'mua': 0.1, 'mus':2.867 , 'g': 0.99, 'n': 1.63},\n",
    "                         {'mua': 0.35, 'mus': 22.193, 'g': 0.83, 'n': 1.49},\n",
    "                         {'mua':  2.8, 'mus': 0.0, 'g': 1.0, 'n': 1.333}]\n",
    "\n",
    "\n",
    "cfg[\"Forward\"][\"Dt\"] = 5e-09\n",
    "cfg[\"Forward\"][\"T0\"] = 0.0\n",
    "cfg[\"Forward\"][\"T1\"] = 5e-09\n",
    "\n",
    "\n",
    "cfg[\"Session\"][\"Photons\"] = 1e7\n",
    "cfg[\"Session\"][\"RNGSeed\"] = random.randint(0,999999999)\n",
    "cfg[\"Session\"][\"ID\"] = \"cfg_from_python\"\n",
    "cfg[\"Session\"][\"DoAutoThread\"] = 1\n",
    "\n",
    "\n",
    "cfg[\"Optode\"][\"Source\"][\"Dir\"] =  [0.0, 1, 0]\n",
    "cfg[\"Optode\"][\"Source\"][\"Param1\"] = [0.0, 0.0, 0.0, 0.0]\n",
    "cfg[\"Optode\"][\"Source\"][\"Param2\"] = [0.0, 0.0, 0.0, 0.0]\n",
    "cfg[\"Optode\"][\"Source\"][\"Pos\"] = [x/2, 1,z*3/4]\n",
    "cfg[\"Optode\"][\"Source\"][\"Type\"] = \"pencil\"\n",
    "\n",
    "cfg[\"Optode\"][\"Detector\"] = [{\"Pos\": [x/2,  y/2,  0.0], \"R\": 5.0}]\n",
    "\n",
    "\n",
    "#del cfg[\"Optode\"][\"Detector\"]\n",
    "del cfg[\"Shapes\"]\n",
    "\n",
    "\n",
    "flags = \"\"\n",
    "#flags += \"-a 1 \"\n",
    "#flags += \"--outputformat jnii \" # tx3 jnii\n",
    "flags += \"--saveexit 1 \"\n",
    "flags += \"--saveref 1 \"\n",
    "flags += \"--savedetflag 127 \"\n",
    "#flags += \"--bc aaaaaa111111 \"\n",
    "#flags += \"--dumpjson\"\n",
    "\n",
    "data = mcx.run(cfg, flag=flags, mcxbin=mcxbin)"
   ]
  },
  {
   "cell_type": "code",
   "execution_count": null,
   "id": "90ee5890",
   "metadata": {},
   "outputs": [],
   "source": []
  },
  {
   "cell_type": "code",
   "execution_count": 53,
   "id": "2411e67b",
   "metadata": {},
   "outputs": [],
   "source": [
    "jnii = jdata.load(\"cfg_from_python.jnii\")\n"
   ]
  },
  {
   "cell_type": "code",
   "execution_count": 54,
   "id": "d0753021",
   "metadata": {},
   "outputs": [],
   "source": [
    "jdat = jdata.load(\"cfg_from_python_detp.jdat\")"
   ]
  },
  {
   "cell_type": "code",
   "execution_count": 55,
   "id": "edf080ca",
   "metadata": {},
   "outputs": [
    {
     "name": "stdout",
     "output_type": "stream",
     "text": [
      "(28365, 1)\n",
      "(28365, 4)\n",
      "(28365, 4)\n",
      "(28365, 4)\n",
      "(28365, 3)\n",
      "(28365, 3)\n",
      "(28365, 1)\n"
     ]
    }
   ],
   "source": [
    "print(jdat[\"MCXData\"][\"PhotonData\"][\"detid\"].shape)\n",
    "print(jdat[\"MCXData\"][\"PhotonData\"][\"nscat\"].shape)\n",
    "print(jdat[\"MCXData\"][\"PhotonData\"][\"ppath\"].shape)\n",
    "print(jdat[\"MCXData\"][\"PhotonData\"][\"mom\"].shape)\n",
    "print(jdat[\"MCXData\"][\"PhotonData\"][\"p\"].shape)\n",
    "print(jdat[\"MCXData\"][\"PhotonData\"][\"v\"].shape)\n",
    "print(jdat[\"MCXData\"][\"PhotonData\"][\"w0\"].shape)\n",
    "\n",
    "#jdat[\"MCXData\"][\"PhotonData\"]"
   ]
  },
  {
   "cell_type": "code",
   "execution_count": 56,
   "id": "c24ccedc",
   "metadata": {},
   "outputs": [],
   "source": [
    "all_layers = jnii[\"NIFTIData\"]\n",
    "\n",
    "img = sitk.GetImageFromArray(all_layers)\n",
    "sitk.WriteImage(img, \"blub.mhd\")"
   ]
  },
  {
   "cell_type": "code",
   "execution_count": 63,
   "id": "18e904bb",
   "metadata": {},
   "outputs": [
    {
     "name": "stdout",
     "output_type": "stream",
     "text": [
      "-450515584.0\n",
      "6652624896.0\n"
     ]
    }
   ],
   "source": [
    "print(data[1].min())\n",
    "print(data[1].max())"
   ]
  },
  {
   "cell_type": "code",
   "execution_count": 64,
   "id": "3ec659fc",
   "metadata": {},
   "outputs": [],
   "source": [
    "fluence_and_dref = data[1]\n",
    "dref = np.where(fluence_and_dref < 0, -fluence_and_dref, 0)\n",
    "dref = np.where(dref == 0, 10**-20, dref)\n",
    "dref = np.log(dref)\n",
    "dref = sitk.GetImageFromArray(dref)\n",
    "sitk.WriteImage(dref, \"dref.mhd\")"
   ]
  },
  {
   "cell_type": "code",
   "execution_count": 442,
   "id": "e6bb4a2d",
   "metadata": {},
   "outputs": [
    {
     "ename": "IndexError",
     "evalue": "too many indices for array: array is 3-dimensional, but 4 were indexed",
     "output_type": "error",
     "traceback": [
      "\u001b[0;31m---------------------------------------------------------------------------\u001b[0m",
      "\u001b[0;31mIndexError\u001b[0m                                Traceback (most recent call last)",
      "\u001b[0;32m/tmp/ipykernel_23105/3103433961.py\u001b[0m in \u001b[0;36m<module>\u001b[0;34m\u001b[0m\n\u001b[1;32m      1\u001b[0m \u001b[0;32mfor\u001b[0m \u001b[0mx\u001b[0m \u001b[0;32min\u001b[0m \u001b[0mrange\u001b[0m\u001b[0;34m(\u001b[0m\u001b[0;36m10\u001b[0m\u001b[0;34m)\u001b[0m\u001b[0;34m:\u001b[0m\u001b[0;34m\u001b[0m\u001b[0;34m\u001b[0m\u001b[0m\n\u001b[0;32m----> 2\u001b[0;31m     \u001b[0mlayer\u001b[0m \u001b[0;34m=\u001b[0m \u001b[0mall_layers\u001b[0m\u001b[0;34m[\u001b[0m\u001b[0;34m:\u001b[0m\u001b[0;34m,\u001b[0m\u001b[0;34m:\u001b[0m\u001b[0;34m,\u001b[0m\u001b[0;34m:\u001b[0m\u001b[0;34m,\u001b[0m\u001b[0mx\u001b[0m\u001b[0;34m]\u001b[0m\u001b[0;34m\u001b[0m\u001b[0;34m\u001b[0m\u001b[0m\n\u001b[0m\u001b[1;32m      3\u001b[0m     \u001b[0mprint\u001b[0m\u001b[0;34m(\u001b[0m\u001b[0mlayer\u001b[0m\u001b[0;34m.\u001b[0m\u001b[0mflatten\u001b[0m\u001b[0;34m(\u001b[0m\u001b[0;34m)\u001b[0m\u001b[0;34m.\u001b[0m\u001b[0mmax\u001b[0m\u001b[0;34m(\u001b[0m\u001b[0;34m)\u001b[0m\u001b[0;34m)\u001b[0m\u001b[0;34m\u001b[0m\u001b[0;34m\u001b[0m\u001b[0m\n\u001b[1;32m      4\u001b[0m     \u001b[0;32mif\u001b[0m \u001b[0mlayer\u001b[0m\u001b[0;34m.\u001b[0m\u001b[0mmax\u001b[0m\u001b[0;34m(\u001b[0m\u001b[0;34m)\u001b[0m \u001b[0;34m>\u001b[0m \u001b[0;36m0.0\u001b[0m\u001b[0;34m:\u001b[0m\u001b[0;34m\u001b[0m\u001b[0;34m\u001b[0m\u001b[0m\n\u001b[1;32m      5\u001b[0m         \u001b[0mimg\u001b[0m \u001b[0;34m=\u001b[0m \u001b[0msitk\u001b[0m\u001b[0;34m.\u001b[0m\u001b[0mGetImageFromArray\u001b[0m\u001b[0;34m(\u001b[0m\u001b[0mlayer\u001b[0m\u001b[0;34m)\u001b[0m\u001b[0;34m\u001b[0m\u001b[0;34m\u001b[0m\u001b[0m\n",
      "\u001b[0;31mIndexError\u001b[0m: too many indices for array: array is 3-dimensional, but 4 were indexed"
     ]
    }
   ],
   "source": [
    "for i in range(10):\n",
    "    layer = all_layers[:,:,:,i]\n",
    "    print(layer.flatten().max())\n",
    "    if layer.max() > 0.0:\n",
    "        img = sitk.GetImageFromArray(layer)\n",
    "        sitk.WriteImage(img, \"blub\"+str(i)+\".mhd\")"
   ]
  },
  {
   "cell_type": "code",
   "execution_count": 443,
   "id": "d0ec5d2d",
   "metadata": {},
   "outputs": [
    {
     "ename": "IndexError",
     "evalue": "too many indices for array: array is 3-dimensional, but 4 were indexed",
     "output_type": "error",
     "traceback": [
      "\u001b[0;31m---------------------------------------------------------------------------\u001b[0m",
      "\u001b[0;31mIndexError\u001b[0m                                Traceback (most recent call last)",
      "\u001b[0;32m/tmp/ipykernel_23105/2805174765.py\u001b[0m in \u001b[0;36m<module>\u001b[0;34m\u001b[0m\n\u001b[0;32m----> 1\u001b[0;31m \u001b[0mnp\u001b[0m\u001b[0;34m.\u001b[0m\u001b[0marray_equal\u001b[0m\u001b[0;34m(\u001b[0m\u001b[0mall_layers\u001b[0m\u001b[0;34m[\u001b[0m\u001b[0;34m:\u001b[0m\u001b[0;34m,\u001b[0m\u001b[0;34m:\u001b[0m\u001b[0;34m,\u001b[0m\u001b[0;34m:\u001b[0m\u001b[0;34m,\u001b[0m\u001b[0;36m9\u001b[0m\u001b[0;34m]\u001b[0m\u001b[0;34m,\u001b[0m \u001b[0mall_layers\u001b[0m\u001b[0;34m[\u001b[0m\u001b[0;34m:\u001b[0m\u001b[0;34m,\u001b[0m\u001b[0;34m:\u001b[0m\u001b[0;34m,\u001b[0m\u001b[0;34m:\u001b[0m\u001b[0;34m,\u001b[0m\u001b[0;36m5\u001b[0m\u001b[0;34m]\u001b[0m\u001b[0;34m)\u001b[0m\u001b[0;34m\u001b[0m\u001b[0;34m\u001b[0m\u001b[0m\n\u001b[0m",
      "\u001b[0;31mIndexError\u001b[0m: too many indices for array: array is 3-dimensional, but 4 were indexed"
     ]
    }
   ],
   "source": [
    "np.array_equal(all_layers[:,:,:,9], all_layers[:,:,:,5])"
   ]
  },
  {
   "cell_type": "code",
   "execution_count": 401,
   "id": "c14aecc0",
   "metadata": {},
   "outputs": [
    {
     "data": {
      "text/plain": [
       "1.6373824e-07"
      ]
     },
     "execution_count": 401,
     "metadata": {},
     "output_type": "execute_result"
    }
   ],
   "source": [
    " all_layers[:,:,:,2].flatten().max()"
   ]
  },
  {
   "cell_type": "code",
   "execution_count": 452,
   "id": "12efa380",
   "metadata": {},
   "outputs": [
    {
     "data": {
      "text/plain": [
       "((array([[-1.        ,  0.        ,  2.        , ..., -0.18568276,\n",
       "           0.91388571,  1.        ],\n",
       "         [-1.        ,  0.        ,  4.        , ...,  0.03371319,\n",
       "           0.99435586,  1.        ],\n",
       "         [-1.        ,  0.        ,  3.        , ..., -0.30029836,\n",
       "           0.94502717,  1.        ],\n",
       "         ...,\n",
       "         [-1.        ,  0.        ,  6.        , ..., -0.90127796,\n",
       "          -0.34897351,  1.        ],\n",
       "         [-1.        ,  0.        , 11.        , ..., -0.48507562,\n",
       "           0.52853417,  1.        ],\n",
       "         [-1.        ,  0.        ,  5.        , ..., -0.20103237,\n",
       "           0.89341414,  1.        ]]),\n",
       "  {'version': 1,\n",
       "   'medianum': 4,\n",
       "   'detnum': 1,\n",
       "   'recordnum': 20,\n",
       "   'totalphoton': 10000000,\n",
       "   'detectedphoton': 1000000,\n",
       "   'savedphoton': 1000000,\n",
       "   'lengthunit': 0.1599999964237213,\n",
       "   'seedbyte': 0,\n",
       "   'normalizer': 781.25,\n",
       "   'respin': 1,\n",
       "   'srcnum': 1,\n",
       "   'savedetflag': 127},\n",
       "  []),\n",
       " array([[[[0.],\n",
       "          [0.],\n",
       "          [0.],\n",
       "          ...,\n",
       "          [0.],\n",
       "          [0.],\n",
       "          [0.]],\n",
       " \n",
       "         [[0.],\n",
       "          [0.],\n",
       "          [0.],\n",
       "          ...,\n",
       "          [0.],\n",
       "          [0.],\n",
       "          [0.]],\n",
       " \n",
       "         [[0.],\n",
       "          [0.],\n",
       "          [0.],\n",
       "          ...,\n",
       "          [0.],\n",
       "          [0.],\n",
       "          [0.]],\n",
       " \n",
       "         ...,\n",
       " \n",
       "         [[0.],\n",
       "          [0.],\n",
       "          [0.],\n",
       "          ...,\n",
       "          [0.],\n",
       "          [0.],\n",
       "          [0.]],\n",
       " \n",
       "         [[0.],\n",
       "          [0.],\n",
       "          [0.],\n",
       "          ...,\n",
       "          [0.],\n",
       "          [0.],\n",
       "          [0.]],\n",
       " \n",
       "         [[0.],\n",
       "          [0.],\n",
       "          [0.],\n",
       "          ...,\n",
       "          [0.],\n",
       "          [0.],\n",
       "          [0.]]],\n",
       " \n",
       " \n",
       "        [[[0.],\n",
       "          [0.],\n",
       "          [0.],\n",
       "          ...,\n",
       "          [0.],\n",
       "          [0.],\n",
       "          [0.]],\n",
       " \n",
       "         [[0.],\n",
       "          [0.],\n",
       "          [0.],\n",
       "          ...,\n",
       "          [0.],\n",
       "          [0.],\n",
       "          [0.]],\n",
       " \n",
       "         [[0.],\n",
       "          [0.],\n",
       "          [0.],\n",
       "          ...,\n",
       "          [0.],\n",
       "          [0.],\n",
       "          [0.]],\n",
       " \n",
       "         ...,\n",
       " \n",
       "         [[0.],\n",
       "          [0.],\n",
       "          [0.],\n",
       "          ...,\n",
       "          [0.],\n",
       "          [0.],\n",
       "          [0.]],\n",
       " \n",
       "         [[0.],\n",
       "          [0.],\n",
       "          [0.],\n",
       "          ...,\n",
       "          [0.],\n",
       "          [0.],\n",
       "          [0.]],\n",
       " \n",
       "         [[0.],\n",
       "          [0.],\n",
       "          [0.],\n",
       "          ...,\n",
       "          [0.],\n",
       "          [0.],\n",
       "          [0.]]],\n",
       " \n",
       " \n",
       "        [[[0.],\n",
       "          [0.],\n",
       "          [0.],\n",
       "          ...,\n",
       "          [0.],\n",
       "          [0.],\n",
       "          [0.]],\n",
       " \n",
       "         [[0.],\n",
       "          [0.],\n",
       "          [0.],\n",
       "          ...,\n",
       "          [0.],\n",
       "          [0.],\n",
       "          [0.]],\n",
       " \n",
       "         [[0.],\n",
       "          [0.],\n",
       "          [0.],\n",
       "          ...,\n",
       "          [0.],\n",
       "          [0.],\n",
       "          [0.]],\n",
       " \n",
       "         ...,\n",
       " \n",
       "         [[0.],\n",
       "          [0.],\n",
       "          [0.],\n",
       "          ...,\n",
       "          [0.],\n",
       "          [0.],\n",
       "          [0.]],\n",
       " \n",
       "         [[0.],\n",
       "          [0.],\n",
       "          [0.],\n",
       "          ...,\n",
       "          [0.],\n",
       "          [0.],\n",
       "          [0.]],\n",
       " \n",
       "         [[0.],\n",
       "          [0.],\n",
       "          [0.],\n",
       "          ...,\n",
       "          [0.],\n",
       "          [0.],\n",
       "          [0.]]],\n",
       " \n",
       " \n",
       "        ...,\n",
       " \n",
       " \n",
       "        [[[0.],\n",
       "          [0.],\n",
       "          [0.],\n",
       "          ...,\n",
       "          [0.],\n",
       "          [0.],\n",
       "          [0.]],\n",
       " \n",
       "         [[0.],\n",
       "          [0.],\n",
       "          [0.],\n",
       "          ...,\n",
       "          [0.],\n",
       "          [0.],\n",
       "          [0.]],\n",
       " \n",
       "         [[0.],\n",
       "          [0.],\n",
       "          [0.],\n",
       "          ...,\n",
       "          [0.],\n",
       "          [0.],\n",
       "          [0.]],\n",
       " \n",
       "         ...,\n",
       " \n",
       "         [[0.],\n",
       "          [0.],\n",
       "          [0.],\n",
       "          ...,\n",
       "          [0.],\n",
       "          [0.],\n",
       "          [0.]],\n",
       " \n",
       "         [[0.],\n",
       "          [0.],\n",
       "          [0.],\n",
       "          ...,\n",
       "          [0.],\n",
       "          [0.],\n",
       "          [0.]],\n",
       " \n",
       "         [[0.],\n",
       "          [0.],\n",
       "          [0.],\n",
       "          ...,\n",
       "          [0.],\n",
       "          [0.],\n",
       "          [0.]]],\n",
       " \n",
       " \n",
       "        [[[0.],\n",
       "          [0.],\n",
       "          [0.],\n",
       "          ...,\n",
       "          [0.],\n",
       "          [0.],\n",
       "          [0.]],\n",
       " \n",
       "         [[0.],\n",
       "          [0.],\n",
       "          [0.],\n",
       "          ...,\n",
       "          [0.],\n",
       "          [0.],\n",
       "          [0.]],\n",
       " \n",
       "         [[0.],\n",
       "          [0.],\n",
       "          [0.],\n",
       "          ...,\n",
       "          [0.],\n",
       "          [0.],\n",
       "          [0.]],\n",
       " \n",
       "         ...,\n",
       " \n",
       "         [[0.],\n",
       "          [0.],\n",
       "          [0.],\n",
       "          ...,\n",
       "          [0.],\n",
       "          [0.],\n",
       "          [0.]],\n",
       " \n",
       "         [[0.],\n",
       "          [0.],\n",
       "          [0.],\n",
       "          ...,\n",
       "          [0.],\n",
       "          [0.],\n",
       "          [0.]],\n",
       " \n",
       "         [[0.],\n",
       "          [0.],\n",
       "          [0.],\n",
       "          ...,\n",
       "          [0.],\n",
       "          [0.],\n",
       "          [0.]]],\n",
       " \n",
       " \n",
       "        [[[0.],\n",
       "          [0.],\n",
       "          [0.],\n",
       "          ...,\n",
       "          [0.],\n",
       "          [0.],\n",
       "          [0.]],\n",
       " \n",
       "         [[0.],\n",
       "          [0.],\n",
       "          [0.],\n",
       "          ...,\n",
       "          [0.],\n",
       "          [0.],\n",
       "          [0.]],\n",
       " \n",
       "         [[0.],\n",
       "          [0.],\n",
       "          [0.],\n",
       "          ...,\n",
       "          [0.],\n",
       "          [0.],\n",
       "          [0.]],\n",
       " \n",
       "         ...,\n",
       " \n",
       "         [[0.],\n",
       "          [0.],\n",
       "          [0.],\n",
       "          ...,\n",
       "          [0.],\n",
       "          [0.],\n",
       "          [0.]],\n",
       " \n",
       "         [[0.],\n",
       "          [0.],\n",
       "          [0.],\n",
       "          ...,\n",
       "          [0.],\n",
       "          [0.],\n",
       "          [0.]],\n",
       " \n",
       "         [[0.],\n",
       "          [0.],\n",
       "          [0.],\n",
       "          ...,\n",
       "          [0.],\n",
       "          [0.],\n",
       "          [0.]]]]))"
      ]
     },
     "execution_count": 452,
     "metadata": {},
     "output_type": "execute_result"
    }
   ],
   "source": [
    "data"
   ]
  },
  {
   "cell_type": "code",
   "execution_count": null,
   "id": "23dbf629",
   "metadata": {},
   "outputs": [],
   "source": [
    "mcx.load_mc2()"
   ]
  },
  {
   "cell_type": "code",
   "execution_count": 460,
   "id": "df39e75d",
   "metadata": {},
   "outputs": [
    {
     "data": {
      "text/plain": [
       "{'version': 1,\n",
       " 'medianum': 4,\n",
       " 'detnum': 1,\n",
       " 'recordnum': 20,\n",
       " 'totalphoton': 10000000,\n",
       " 'detectedphoton': 1000000,\n",
       " 'savedphoton': 1000000,\n",
       " 'lengthunit': 0.1599999964237213,\n",
       " 'seedbyte': 0,\n",
       " 'normalizer': 781.25,\n",
       " 'respin': 1,\n",
       " 'srcnum': 1,\n",
       " 'savedetflag': 127}"
      ]
     },
     "execution_count": 460,
     "metadata": {},
     "output_type": "execute_result"
    }
   ],
   "source": [
    "data[0][1]"
   ]
  },
  {
   "cell_type": "code",
   "execution_count": 464,
   "id": "b991e608",
   "metadata": {},
   "outputs": [
    {
     "data": {
      "text/plain": [
       "(1000000, 20)"
      ]
     },
     "execution_count": 464,
     "metadata": {},
     "output_type": "execute_result"
    }
   ],
   "source": [
    "data[0][0].shape"
   ]
  },
  {
   "cell_type": "code",
   "execution_count": 465,
   "id": "4e8d67be",
   "metadata": {},
   "outputs": [
    {
     "data": {
      "text/plain": [
       "(128, 128, 65, 1)"
      ]
     },
     "execution_count": 465,
     "metadata": {},
     "output_type": "execute_result"
    }
   ],
   "source": [
    "data[1].shape"
   ]
  },
  {
   "cell_type": "code",
   "execution_count": null,
   "id": "34516856",
   "metadata": {},
   "outputs": [],
   "source": []
  }
 ],
 "metadata": {
  "kernelspec": {
   "display_name": "Python 3 (ipykernel)",
   "language": "python",
   "name": "python3"
  },
  "language_info": {
   "codemirror_mode": {
    "name": "ipython",
    "version": 3
   },
   "file_extension": ".py",
   "mimetype": "text/x-python",
   "name": "python",
   "nbconvert_exporter": "python",
   "pygments_lexer": "ipython3",
   "version": "3.9.6"
  }
 },
 "nbformat": 4,
 "nbformat_minor": 5
}
